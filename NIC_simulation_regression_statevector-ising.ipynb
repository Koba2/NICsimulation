{
 "cells": [
  {
   "cell_type": "code",
   "execution_count": 2,
   "metadata": {},
   "outputs": [],
   "source": [
    "import numpy as np\n",
    "import matplotlib.pyplot as plt\n",
    "from qiskit import *\n",
    "from scipy.optimize import minimize\n",
    "from copy import deepcopy"
   ]
  },
  {
   "cell_type": "code",
   "execution_count": 3,
   "metadata": {},
   "outputs": [],
   "source": [
    "from qiskit.aqua.operators import WeightedPauliOperator, MatrixOperator\n",
    "from qiskit.quantum_info import Pauli\n",
    "from qiskit import QuantumRegister, ClassicalRegister, QuantumCircuit\n",
    "import random\n",
    "from qiskit.compiler import transpile"
   ]
  },
  {
   "cell_type": "code",
   "execution_count": 14,
   "metadata": {},
   "outputs": [
    {
     "data": {
      "image/png": "[encoded data removed]",
      "text/plain": [
       "<Figure size 432x288 with 1 Axes>"
      ]
     },
     "metadata": {
      "needs_background": "light"
     },
     "output_type": "display_data"
    }
   ],
   "source": [
    "########  パラメータ  #############\n",
    "## [x_min, x_max]のうち, ランダムにnum_x_train個の点をとって教師データとする.\n",
    "x_min = - 1.; x_max = 1.;\n",
    "num_x_train = 25\n",
    "num_x_test = 25\n",
    "\n",
    "## 学習したい1変数関数\n",
    "func_to_learn = lambda x: 0.5*np.sin(x*np.pi)\n",
    "func_to_learn1 = lambda x:np.abs(x) - 0.5\n",
    "func_to_learn2 = lambda x:x*0.5\n",
    "\n",
    "## 乱数のシード\n",
    "random_seed = 1\n",
    "## 乱数発生器の初期化\n",
    "np.random.seed(random_seed)\n",
    "### 教師データを準備\n",
    "x_train = x_min + (x_max - x_min) * np.random.rand(num_x_train)\n",
    "y_train = func_to_learn2(x_train)\n",
    "\n",
    "# 現実のデータを用いる場合を想定し、きれいなsin関数にノイズを付加\n",
    "mag_noise1 = 0.05\n",
    "y_train = y_train + mag_noise1 * np.random.randn(num_x_train)\n",
    "\n",
    "mag_noise2 = 0 #テストデータはノイズがないほうが過学習の影響がわかりやすい？\n",
    "#テストデータの準備\n",
    "x_test = x_min + (x_max - x_min) * np.random.rand(num_x_test)\n",
    "y_test = func_to_learn2(x_test) + mag_noise2 * np.random.randn(num_x_test)\n",
    "\n",
    "plt.plot(x_train, y_train, \"o\"); plt.show()"
   ]
  },
  {
   "cell_type": "code",
   "execution_count": 10,
   "metadata": {},
   "outputs": [],
   "source": [
    "#ここでハミルトニアンを作り、使いまわす\n",
    "pauli_list = []\n",
    "nqubit = 2\n",
    "evo_time = 10\n",
    "# ΣaXに相当する部分をpauli_listに加える\n",
    "for i in range(nqubit):\n",
    "    a = random.uniform(-1,1)\n",
    "    x = np.array([False if j != i else True for j in range(nqubit)],dtype=bool)\n",
    "    z = np.array([False]*nqubit,dtype=bool)\n",
    "    pauli_list.append([a,Pauli(z,x)])\n",
    "# ΣJZZに相当する部分をpauli_listに加える\n",
    "for i in range(nqubit):\n",
    "    for k in range(i):\n",
    "        J = random.uniform(-1,1)\n",
    "        x = np.array([False]*nqubit,dtype=bool)\n",
    "        z = np.array([True if (j == i or j == k) else False for j in range(nqubit)],dtype=bool)\n",
    "        pauli_list.append([J,Pauli(z,x)])\n",
    "qubitOp = WeightedPauliOperator(paulis=pauli_list)"
   ]
  },
  {
   "cell_type": "code",
   "execution_count": 8,
   "metadata": {},
   "outputs": [],
   "source": [
    "def U_in(x):    #入力x、出力xをエンコードするゲートが付いた回路（QuantumCircuit）を返す\n",
    "    U = QuantumCircuit(nqubit)\n",
    "    angle_y = np.arcsin(x)\n",
    "    angle_z = np.arccos(x**2)\n",
    "    \n",
    "    for i in range(nqubit):\n",
    "        U.ry(angle_y,[i])\n",
    "        U.rz(angle_z,[i])\n",
    "    return U"
   ]
  },
  {
   "cell_type": "code",
   "execution_count": 11,
   "metadata": {},
   "outputs": [],
   "source": [
    "def ansatz(init_par):  #入力パラメータ初期値のリスト、出力アンザッツが含まれた回路（QuantumCircuit）を返す\n",
    "    U = QuantumCircuit(nqubit)\n",
    "    U += qubitOp.evolve(\n",
    "    U, evo_time, num_time_slices=1,\n",
    "    expansion_mode='suzuki',\n",
    "    expansion_order=3\n",
    ")\n",
    "    for i in range(nqubit):\n",
    "        U.rx(init_par[i],i)\n",
    "    \n",
    "    return U"
   ]
  },
  {
   "cell_type": "code",
   "execution_count": 12,
   "metadata": {},
   "outputs": [],
   "source": [
    "def qcl_pred(x,init_par):   #入力x、出力yの予測値\n",
    "    qc = U_in(x)\n",
    "    for i in range(depth):\n",
    "        qc += ansatz(init_par[i*2:i*2 + 2])\n",
    "    backend = Aer.get_backend(\"statevector_simulator\")\n",
    "    job = execute(qc,backend)\n",
    "    counts = job.result().get_counts()\n",
    "    res = 0\n",
    "    for key in counts.keys():\n",
    "        if key[-1] == \"0\":\n",
    "            res += counts[key]\n",
    "        else:\n",
    "            res -= counts[key]\n",
    "    return res\n",
    "#counts[i]にしないとresは０にしかならない"
   ]
  },
  {
   "cell_type": "code",
   "execution_count": 7,
   "metadata": {},
   "outputs": [],
   "source": [
    "def gene_error(par,loss):   #入力最適パラメータのリスト、出力汎化誤差\n",
    "    res = 0\n",
    "    for x,y in zip(x_test,y_test):\n",
    "        res += loss(x,y,par)\n",
    "    res /= float(len(x_train))\n",
    "    return res"
   ]
  },
  {
   "cell_type": "code",
   "execution_count": 24,
   "metadata": {},
   "outputs": [],
   "source": [
    "d = {}"
   ]
  },
  {
   "cell_type": "code",
   "execution_count": 27,
   "metadata": {},
   "outputs": [
    {
     "name": "stdout",
     "output_type": "stream",
     "text": [
      "[(array([1.76927762, 5.1339076 , 6.06101739, 4.88219846, 0.33905697,\n",
      "       0.24748216]), 0.04207346213904972, 0.03226084305520557, 0.04207346213904972), (array([3.83552808, 2.86517674, 0.55661274, 2.18631282, 3.86055295,\n",
      "       3.9440091 ]), 0.35426673229600475, 0.398851198818633, 0.3542667322960048)]\n"
     ]
    }
   ],
   "source": [
    "#パラメータの初期値を乱数で設定し、コスト関数を最小化するパラメータを求める\n",
    "#ここのfor文は初期パラメータを変更して学習することを何回繰り返すか、を決める\n",
    "for i in range(1,2):\n",
    "    depth = i\n",
    "    for _ in range(1):\n",
    "        init_par = [2*np.pi*np.random.rand() for _ in range(4*depth)]\n",
    "        par = SGD(init_par,loss_func)\n",
    "        d[depth] = d.get(depth,[]) + [(par,D_ast(par,loss_func),gene_error(par,loss_func),NIC(par,loss_func))]\n",
    "\n",
    "print(d[depth])"
   ]
  },
  {
   "cell_type": "code",
   "execution_count": 10,
   "metadata": {},
   "outputs": [],
   "source": [
    "def loss_func(x,y,theta):\n",
    "    #x:入力値、y:出力値、theta:学習後のパラメータベクトル\n",
    "    return 0.5*((y-qcl_pred(x,theta))**2)"
   ]
  },
  {
   "cell_type": "code",
   "execution_count": 11,
   "metadata": {},
   "outputs": [],
   "source": [
    "def shuffle(x,y):\n",
    "    r = np.random.permutation(len(y))\n",
    "    return x[r],y[r]"
   ]
  },
  {
   "cell_type": "code",
   "execution_count": null,
   "metadata": {},
   "outputs": [],
   "source": [
    "def SGD(par,loss,lr=0.01,num_step=50,alpha=0.9):\n",
    "    #lr:learning rate, par: parameter, loss: loss function\n",
    "    #うまくいく時とうまくいかない時の差が激しい、何回か試す\n",
    "    par = np.array(par)\n",
    "    v = [0]*len(par)\n",
    "    for _ in range(num_step):\n",
    "        new_x,new_y = shuffle(x_train,y_train)\n",
    "        for x,y in zip(new_x,new_y):\n",
    "            for i in range(len(par)):\n",
    "                v[i] =alpha*v[i] -lr*compute_gradient1(loss,x,y,par,i)\n",
    "            for i in range(len(par)):\n",
    "                par[i] =par[i] + v[i]\n",
    "    return par"
   ]
  },
  {
   "cell_type": "code",
   "execution_count": 13,
   "metadata": {},
   "outputs": [],
   "source": [
    "def compute_gradient1(loss,x,y,theta,num):\n",
    "    #loss: 使うloss関数、x,y:i番目のデータ,theta:今のパラメータベクトル,num: 何番目のパラメータについて偏微分をとるか\n",
    "    #出力は勾配ベクトル\n",
    "    h = 1e-4\n",
    "    theta1,theta2 = theta.copy(),theta.copy()\n",
    "    theta1[num] += h\n",
    "    theta2[num] -= h\n",
    "    return (loss(x,y,theta1)-loss(x,y,theta2))/(2*h)"
   ]
  },
  {
   "cell_type": "code",
   "execution_count": 14,
   "metadata": {},
   "outputs": [],
   "source": [
    "def compute_gradient2(loss,x,y,theta,num1,num2):\n",
    "    h = 1e-4\n",
    "    if num1 == num2:\n",
    "        theta1,theta2 = theta.copy(),theta.copy()\n",
    "        theta1[num1] += h\n",
    "        theta2[num1] -= h\n",
    "        return (loss(x,y,theta1) + loss(x,y,theta2) -2*loss(x,y,theta))/(h**2)\n",
    "    else:\n",
    "        theta1,theta2,theta3,theta4 = theta.copy(),theta.copy(),theta.copy(),theta.copy()\n",
    "        theta1[num1],theta1[num2] = theta[num1]+h,theta[num2]+h\n",
    "        theta2[num1],theta2[num2] = theta[num1]+h,theta[num2]-h\n",
    "        theta3[num1],theta3[num2] = theta[num1]-h,theta[num2]+h\n",
    "        theta4[num1],theta4[num2] = theta[num1]-h,theta[num2]-h\n",
    "        return (loss(x,y,theta1) + loss(x,y,theta4) - loss(x,y,theta2) - loss(x,y,theta3))/(4*(h**2))"
   ]
  },
  {
   "cell_type": "code",
   "execution_count": 15,
   "metadata": {},
   "outputs": [],
   "source": [
    "def G_ast(par,loss):\n",
    "    #入力:学習後のパラメータ、出力:行列G^ast\n",
    "    n = len(par)\n",
    "    G = np.array([[0 for _ in range(n)] for _ in range(n)])\n",
    "    E_x = [0]*n    #E_x[i] = i番目の偏微分の期待値\n",
    "    E_xy = [[0 for _ in range(n)] for _ in range(n)]  #E_xy[i][j] = i,j番目の偏微分の期待値\n",
    "    for i in range(n):\n",
    "        element = 0\n",
    "        for x,y in zip(x_train,y_train):\n",
    "            element += compute_gradient1(loss,x,y,par,i)\n",
    "        element /= float(len(x_train))\n",
    "        E_x[i] = element\n",
    "        \n",
    "    for i in range(n):\n",
    "        for j in range(n):\n",
    "            if i <= j:\n",
    "                element = 0\n",
    "                for x,y in zip(x_train,y_train):\n",
    "                    element += compute_gradient1(loss,x,y,par,i)*compute_gradient1(loss,x,y,par,j)\n",
    "                element /= float(len(x_train))\n",
    "                E_xy[i][j] = element\n",
    "            else:\n",
    "                E_xy[i][j] = E_xy[j][i]\n",
    "    \n",
    "    for i in range(n):\n",
    "        for j in range(n):\n",
    "            G[i][j] = E_xy[i][j] - E_x[i]*E_x[j]\n",
    "    return G"
   ]
  },
  {
   "cell_type": "code",
   "execution_count": 16,
   "metadata": {},
   "outputs": [],
   "source": [
    "def Q_ast(par,loss):\n",
    "    #入力:学習後のパラメータ、出力:行列Q^ast\n",
    "    n = len(par)\n",
    "    Q = np.array([[0 for _ in range(n)] for _ in range(n)])\n",
    "    for i in range(n):\n",
    "        for j in range(n):\n",
    "            element = 0\n",
    "            for x,y in zip(x_train,y_train):\n",
    "                element += compute_gradient2(loss,x,y,par,i,j)\n",
    "            element /= float(len(x_train))\n",
    "            Q[i][j] = element\n",
    "    return Q"
   ]
  },
  {
   "cell_type": "code",
   "execution_count": 17,
   "metadata": {},
   "outputs": [],
   "source": [
    "def D_ast(par,loss):\n",
    "    res = 0\n",
    "    for x,y in zip(x_train,y_train):\n",
    "        res += loss(x,y,par)\n",
    "    res /= float(len(x_train))\n",
    "    return res"
   ]
  },
  {
   "cell_type": "code",
   "execution_count": 18,
   "metadata": {},
   "outputs": [],
   "source": [
    "def NIC(par,loss):\n",
    "    f1 = D_ast(par,loss)\n",
    "    G = G_ast(par,loss)\n",
    "    Q = Q_ast(par,loss)\n",
    "    Q_inv = np.linalg.pinv(Q)\n",
    "    temp = np.dot(G,Q_inv)\n",
    "    return f1 + np.trace(temp)/float(len(x_train))"
   ]
  },
  {
   "cell_type": "code",
   "execution_count": 28,
   "metadata": {},
   "outputs": [],
   "source": [
    "depth = 2\n",
    "par = [1.76927762, 5.1339076 , 6.06101739, 4.88219846, 0.33905697,\n",
    "       0.24748216]"
   ]
  },
  {
   "cell_type": "code",
   "execution_count": 29,
   "metadata": {},
   "outputs": [
    {
     "data": {
      "image/png": "[encoded data removed]",
      "text/plain": [
       "<Figure size 720x432 with 1 Axes>"
      ]
     },
     "metadata": {
      "needs_background": "light"
     },
     "output_type": "display_data"
    }
   ],
   "source": [
    "# プロットしたいときには以下を実行すればよい\n",
    "plt.figure(figsize=(10, 6))\n",
    "\n",
    "xlist = np.arange(x_min, x_max, 0.02)\n",
    "\n",
    "# 教師データ\n",
    "plt.plot(x_train, y_train, \"o\", label='Teacher')\n",
    "\n",
    "# モデルの予測値\n",
    "y_pred = np.array([qcl_pred(x,par) for x in xlist])\n",
    "plt.plot(xlist, y_pred, label='Final Model Prediction')\n",
    "\n",
    "plt.legend()\n",
    "plt.show()"
   ]
  },
  {
   "cell_type": "code",
   "execution_count": null,
   "metadata": {},
   "outputs": [],
   "source": []
  }
 ],
 "metadata": {
  "kernelspec": {
   "display_name": "Python 3",
   "language": "python",
   "name": "python3"
  },
  "language_info": {
   "codemirror_mode": {
    "name": "ipython",
    "version": 3
   },
   "file_extension": ".py",
   "mimetype": "text/x-python",
   "name": "python",
   "nbconvert_exporter": "python",
   "pygments_lexer": "ipython3",
   "version": "3.7.7"
  }
 },
 "nbformat": 4,
 "nbformat_minor": 4
}
