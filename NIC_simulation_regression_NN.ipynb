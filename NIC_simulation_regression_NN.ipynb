{
 "cells": [
  {
   "cell_type": "code",
   "execution_count": 151,
   "metadata": {},
   "outputs": [],
   "source": [
    "import numpy as np\n",
    "import matplotlib.pyplot as plt\n",
    "from qiskit import *\n",
    "from scipy.optimize import minimize\n",
    "from copy import deepcopy\n",
    "import chainer\n",
    "import chainer.links as L\n",
    "import chainer.functions as F"
   ]
  },
  {
   "cell_type": "code",
   "execution_count": 152,
   "metadata": {},
   "outputs": [],
   "source": [
    "num_h = 1"
   ]
  },
  {
   "cell_type": "code",
   "execution_count": 159,
   "metadata": {},
   "outputs": [],
   "source": [
    "d = {}"
   ]
  },
  {
   "cell_type": "code",
   "execution_count": 153,
   "metadata": {},
   "outputs": [
    {
     "data": {
      "image/png": "[encoded data removed]",
      "text/plain": [
       "<Figure size 432x288 with 1 Axes>"
      ]
     },
     "metadata": {
      "needs_background": "light"
     },
     "output_type": "display_data"
    }
   ],
   "source": [
    "########  パラメータ  #############\n",
    "## [x_min, x_max]のうち, ランダムにnum_x_train個の点をとって教師データとする.\n",
    "x_min = - 1.; x_max = 1.;\n",
    "num_x_train = 25\n",
    "num_x_test = 25\n",
    "\n",
    "## 学習したい1変数関数\n",
    "func_to_learn = lambda x: 0.5*np.sin(x*np.pi)\n",
    "func_to_learn1 = lambda x:np.abs(x) - 0.5\n",
    "func_to_learn2 = lambda x:x*0.5\n",
    "\n",
    "## 乱数のシード\n",
    "random_seed = 0\n",
    "## 乱数発生器の初期化\n",
    "np.random.seed(random_seed)\n",
    "### 教師データを準備\n",
    "x_train = x_min + (x_max - x_min) * np.random.rand(num_x_train)\n",
    "y_train = func_to_learn2(x_train)\n",
    "\n",
    "# 現実のデータを用いる場合を想定し、きれいなsin関数にノイズを付加\n",
    "mag_noise1 = 0.05\n",
    "y_train = y_train + mag_noise1 * np.random.randn(num_x_train)\n",
    "\n",
    "#テストデータの準備\n",
    "mag_noise2 = 0\n",
    "x_test = x_min + (x_max - x_min) * np.random.rand(num_x_test)\n",
    "y_test = func_to_learn2(x_test) + mag_noise2 * np.random.randn(num_x_test)\n",
    "\n",
    "plt.plot(x_train, y_train, \"o\"); plt.show()"
   ]
  },
  {
   "cell_type": "code",
   "execution_count": 154,
   "metadata": {},
   "outputs": [],
   "source": [
    "x_train = x_train.astype(np.float32).reshape((len(x_train),1))\n",
    "y_train = y_train.astype(np.float32).reshape((len(y_train),1))\n",
    "x_test = x_test.astype(np.float32).reshape((len(x_test),1))\n",
    "y_test = y_test.astype(np.float32).reshape((len(y_test),1))"
   ]
  },
  {
   "cell_type": "code",
   "execution_count": 122,
   "metadata": {},
   "outputs": [],
   "source": [
    "class Net1(chainer.Chain):\n",
    "\n",
    "    def __init__(self, n_in=1, n_hidden=3, n_out=1):\n",
    "        super().__init__()\n",
    "        with self.init_scope():\n",
    "            self.l1 = L.Linear(n_in, n_hidden)\n",
    "            self.l2 = L.Linear(n_hidden, n_out)\n",
    "\n",
    "    def __call__(self, x):\n",
    "        h = F.relu(self.l1(x))\n",
    "        h = self.l2(h)\n",
    "        return h"
   ]
  },
  {
   "cell_type": "code",
   "execution_count": 123,
   "metadata": {},
   "outputs": [],
   "source": [
    "class Net2(chainer.Chain):\n",
    "\n",
    "    def __init__(self,n_in=1,n_hidden=3,n_out=1):\n",
    "        super().__init__()\n",
    "        with self.init_scope():\n",
    "            self.l1 = L.Linear(n_in,n_hidden)\n",
    "            self.l2 = L.Linear(n_hidden,n_hidden)\n",
    "            self.l3 = L.Linear(n_hidden,n_out)\n",
    "\n",
    "    def __call__(self, x):\n",
    "        h = F.relu(self.l1(x))\n",
    "        h = F.relu(self.l2(h))\n",
    "        h = self.l3(h)\n",
    "        return h"
   ]
  },
  {
   "cell_type": "code",
   "execution_count": 155,
   "metadata": {},
   "outputs": [
    {
     "data": {
      "text/plain": [
       "<chainer.optimizers.sgd.SGD at 0x273b89de6c8>"
      ]
     },
     "execution_count": 155,
     "metadata": {},
     "output_type": "execute_result"
    }
   ],
   "source": [
    "net = Net1(n_hidden=num_h)\n",
    "optimizer = chainer.optimizers.SGD()\n",
    "optimizer.setup(net)"
   ]
  },
  {
   "cell_type": "code",
   "execution_count": 156,
   "metadata": {},
   "outputs": [],
   "source": [
    "n_epoch = 500\n",
    "for epoch in range(n_epoch):\n",
    "    # データセット並べ替えた順番を取得\n",
    "    order = np.random.permutation(range(len(x_train)))\n",
    "    for i in range(len(order)):\n",
    "        # バッチを準備\n",
    "        index = order[i]\n",
    "        x_train_batch = x_train[index].reshape(1,1)\n",
    "        y_train_batch = y_train[index:index+1]\n",
    "\n",
    "        # 予測値を出力\n",
    "        y_pred = net(x_train_batch)\n",
    "        # 目的関数を適用\n",
    "        loss_train_batch = F.squared_error(y_train_batch, y_pred)*0.5\n",
    "\n",
    "        # 勾配のリセットと勾配の計算\n",
    "        net.cleargrads()\n",
    "        loss_train_batch.backward()\n",
    "\n",
    "        # パラメータの更新\n",
    "        optimizer.update()"
   ]
  },
  {
   "cell_type": "code",
   "execution_count": 157,
   "metadata": {},
   "outputs": [
    {
     "data": {
      "image/png": "[encoded data removed]",
      "text/plain": [
       "<Figure size 720x432 with 1 Axes>"
      ]
     },
     "metadata": {
      "needs_background": "light"
     },
     "output_type": "display_data"
    }
   ],
   "source": [
    "#プロットしたいときには以下を実行すればよい\n",
    "plt.figure(figsize=(10, 6))\n",
    "\n",
    "xlist = np.arange(x_min, x_max, 0.02).astype(np.float32)\n",
    "\n",
    "# 教師データ\n",
    "plt.plot(x_train, y_train, \"o\", label='Teacher')\n",
    "\n",
    "# モデルの予測値\n",
    "y_pred = np.array([net(x.reshape((1,1))).array[0][0] for x in xlist])\n",
    "\n",
    "plt.plot(xlist, y_pred, label='Final Model Prediction')\n",
    "\n",
    "plt.legend()\n",
    "plt.show()"
   ]
  },
  {
   "cell_type": "code",
   "execution_count": 74,
   "metadata": {},
   "outputs": [],
   "source": [
    "#ここまでがN.N.の学習フェーズ\n",
    "#ここからNICの計算フェーズ"
   ]
  },
  {
   "cell_type": "code",
   "execution_count": 158,
   "metadata": {},
   "outputs": [],
   "source": [
    "par = np.array([0]*(3*num_h+1),dtype=np.float32) #ここで学習済パラメータを1次元化する\n",
    "for i in range(num_h):\n",
    "    par[i] = net.l1.W.array[i][0]\n",
    "for i in range(num_h,2*num_h):\n",
    "    par[i] = net.l1.b.array[i%num_h]\n",
    "for i in range(2*num_h,3*num_h):\n",
    "    par[i] = net.l2.W.array[0][i%num_h]\n",
    "par[3*num_h] = net.l2.b.array[0]"
   ]
  },
  {
   "cell_type": "code",
   "execution_count": 162,
   "metadata": {},
   "outputs": [],
   "source": [
    "d[num_h] = d.get(num_h,[]) + [(D_ast(par,loss_func),gene_error(par,loss_func),NIC(par,loss_func))]\n",
    "d[num_h]"
   ]
  },
  {
   "cell_type": "code",
   "execution_count": 138,
   "metadata": {},
   "outputs": [],
   "source": [
    "class Net_after_optimization(chainer.Chain):\n",
    "    def __init__(self,W_l1,b_l1,W_l2,b_l2,n_in=1,n_hidden=3,n_out=1):\n",
    "        super().__init__()\n",
    "        with self.init_scope():\n",
    "            self.l1 = L.Linear(n_in, n_hidden,initialW=W_l1,initial_bias=b_l1)\n",
    "            self.l2 = L.Linear(n_hidden, n_out,initialW=W_l2,initial_bias=b_l2)\n",
    "\n",
    "    def __call__(self, x):\n",
    "        h = F.relu(self.l1(x))\n",
    "        h = self.l2(h)\n",
    "        return h"
   ]
  },
  {
   "cell_type": "code",
   "execution_count": 161,
   "metadata": {},
   "outputs": [],
   "source": [
    "def loss_func(x,y,theta):\n",
    "    #x:入力値、y:出力値、theta:学習後のパラメータベクトル,x,yは1次元のndarray(shape=(1,)となっている)\n",
    "    #まず学習済パラメータを用いてモデルを構成し、その後損失関数を計算する\n",
    "    #もし使うNNの形を変えるならこの構成部分をのコードを変える必要がある\n",
    "    W1 = np.array([[0] for _ in range(num_h)],dtype = np.float32)\n",
    "    b1 = np.array([0 for _ in range(num_h)],dtype = np.float32)\n",
    "    W2 = np.array([[0 for _ in range(num_h)]],dtype = np.float32)\n",
    "    b2 = np.array([0],dtype = np.float32)\n",
    "    for i in range(num_h):\n",
    "        W1[i][0] = theta[i]\n",
    "    for i in range(num_h,2*num_h):\n",
    "        b1[i%num_h] = theta[i]\n",
    "    for i in range(2*num_h,3*num_h):\n",
    "        W2[0][i%num_h] = theta[i]\n",
    "    b2[0] = theta[3*num_h]\n",
    "    new_net = Net_after_optimization(n_hidden=num_h,W_l1=W1,b_l1=b1,W_l2=W2,b_l2=b2)\n",
    "    \n",
    "    \n",
    "    y_pred = new_net(x.reshape(1,1)).array[0][0]\n",
    "    return 0.5*((y[0]-y_pred)**2)"
   ]
  },
  {
   "cell_type": "code",
   "execution_count": 111,
   "metadata": {},
   "outputs": [],
   "source": [
    "def compute_gradient1(loss,x,y,theta,num):\n",
    "    #loss: 使うloss関数、x,y:i番目のデータ,theta:今のパラメータベクトル,num: 何番目のパラメータについて偏微分をとるか\n",
    "    #出力は勾配ベクトル\n",
    "    h = 1e-4\n",
    "    theta1,theta2 = theta.copy(),theta.copy()\n",
    "    theta1[num] += h\n",
    "    theta2[num] -= h\n",
    "    return (loss(x,y,theta1)-loss(x,y,theta2))/(2*h)"
   ]
  },
  {
   "cell_type": "code",
   "execution_count": 112,
   "metadata": {},
   "outputs": [],
   "source": [
    "def compute_gradient2(loss,x,y,theta,num1,num2):\n",
    "    h = 1e-4\n",
    "    if num1 == num2:\n",
    "        theta1,theta2 = theta.copy(),theta.copy()\n",
    "        theta1[num1] += h\n",
    "        theta2[num1] -= h\n",
    "        return (loss(x,y,theta1) + loss(x,y,theta2) -2*loss(x,y,theta))/(h**2)\n",
    "    else:\n",
    "        theta1,theta2,theta3,theta4 = theta.copy(),theta.copy(),theta.copy(),theta.copy()\n",
    "        theta1[num1],theta1[num2] = theta[num1]+h,theta[num2]+h\n",
    "        theta2[num1],theta2[num2] = theta[num1]+h,theta[num2]-h\n",
    "        theta3[num1],theta3[num2] = theta[num1]-h,theta[num2]+h\n",
    "        theta4[num1],theta4[num2] = theta[num1]-h,theta[num2]-h\n",
    "        return (loss(x,y,theta1) + loss(x,y,theta4) - loss(x,y,theta2) - loss(x,y,theta3))/(4*(h**2))"
   ]
  },
  {
   "cell_type": "code",
   "execution_count": 113,
   "metadata": {},
   "outputs": [],
   "source": [
    "def G_ast(par,loss):\n",
    "    #入力:学習後のパラメータ、出力:行列G^ast\n",
    "    n = len(par)\n",
    "    G = np.array([[0 for _ in range(n)] for _ in range(n)])\n",
    "    E_x = [0]*n    #E_x[i] = i番目の偏微分の期待値\n",
    "    E_xy = [[0 for _ in range(n)] for _ in range(n)]  #E_xy[i][j] = i,j番目の偏微分の期待値\n",
    "    for i in range(n):\n",
    "        element = 0\n",
    "        for x,y in zip(x_train,y_train):\n",
    "            element += compute_gradient1(loss,x,y,par,i)\n",
    "        element /= float(len(x_train))\n",
    "        E_x[i] = element\n",
    "        \n",
    "    for i in range(n):\n",
    "        for j in range(n):\n",
    "            if i <= j:\n",
    "                element = 0\n",
    "                for x,y in zip(x_train,y_train):\n",
    "                    element += compute_gradient1(loss,x,y,par,i)*compute_gradient1(loss,x,y,par,j)\n",
    "                element /= float(len(x_train))\n",
    "                E_xy[i][j] = element\n",
    "            else:\n",
    "                E_xy[i][j] = E_xy[j][i]\n",
    "    \n",
    "    for i in range(n):\n",
    "        for j in range(n):\n",
    "            G[i][j] = E_xy[i][j] - E_x[i]*E_x[j]\n",
    "    return G"
   ]
  },
  {
   "cell_type": "code",
   "execution_count": 114,
   "metadata": {},
   "outputs": [],
   "source": [
    "def Q_ast(par,loss):\n",
    "    #入力:学習後のパラメータ、出力:行列Q^ast\n",
    "    n = len(par)\n",
    "    Q = np.array([[0 for _ in range(n)] for _ in range(n)])\n",
    "    for i in range(n):\n",
    "        for j in range(n):\n",
    "            element = 0\n",
    "            for x,y in zip(x_train,y_train):\n",
    "                element += compute_gradient2(loss,x,y,par,i,j)\n",
    "            element /= float(len(x_train))\n",
    "            Q[i][j] = element\n",
    "    return Q"
   ]
  },
  {
   "cell_type": "code",
   "execution_count": 115,
   "metadata": {},
   "outputs": [],
   "source": [
    "def D_ast(par,loss):\n",
    "    res = 0\n",
    "    for x,y in zip(x_train,y_train):\n",
    "        res += loss(x,y,par)\n",
    "    res /= float(len(x_train))\n",
    "    return res"
   ]
  },
  {
   "cell_type": "code",
   "execution_count": 116,
   "metadata": {},
   "outputs": [],
   "source": [
    "def NIC(par,loss):\n",
    "    f1 = D_ast(par,loss)\n",
    "    G = G_ast(par,loss)\n",
    "    Q = Q_ast(par,loss)\n",
    "    Q_inv = np.linalg.pinv(Q)\n",
    "    temp = np.dot(G,Q_inv)\n",
    "    return f1 + np.trace(temp)/float(len(x_train))"
   ]
  },
  {
   "cell_type": "code",
   "execution_count": 118,
   "metadata": {},
   "outputs": [],
   "source": [
    "def gene_error(par,loss):\n",
    "    res = 0\n",
    "    for x,y in zip(x_test,y_test):\n",
    "        res += loss(x,y,par)\n",
    "    res /= float(len(x_train))\n",
    "    return res"
   ]
  },
  {
   "cell_type": "code",
   "execution_count": null,
   "metadata": {},
   "outputs": [],
   "source": []
  }
 ],
 "metadata": {
  "kernelspec": {
   "display_name": "Python 3",
   "language": "python",
   "name": "python3"
  },
  "language_info": {
   "codemirror_mode": {
    "name": "ipython",
    "version": 3
   },
   "file_extension": ".py",
   "mimetype": "text/x-python",
   "name": "python",
   "nbconvert_exporter": "python",
   "pygments_lexer": "ipython3",
   "version": "3.7.7"
  }
 },
 "nbformat": 4,
 "nbformat_minor": 4
}
