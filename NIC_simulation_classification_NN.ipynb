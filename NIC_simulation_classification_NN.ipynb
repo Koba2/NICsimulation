{
 "cells": [
  {
   "cell_type": "code",
   "execution_count": 53,
   "metadata": {},
   "outputs": [],
   "source": [
    "import numpy as np\n",
    "import matplotlib.pyplot as plt\n",
    "from qiskit import *\n",
    "from scipy.optimize import minimize\n",
    "from copy import deepcopy\n",
    "from sklearn import datasets\n",
    "from sklearn.preprocessing import MinMaxScaler\n",
    "import chainer\n",
    "import chainer.links as L\n",
    "import chainer.functions as F"
   ]
  },
  {
   "cell_type": "code",
   "execution_count": 46,
   "metadata": {},
   "outputs": [],
   "source": [
    "#入力xは多次元(n)で出力yはクラスラベル(onehot encoding)、qubit数はとりあえずnにする\n",
    "num_class = 2"
   ]
  },
  {
   "cell_type": "code",
   "execution_count": 51,
   "metadata": {},
   "outputs": [],
   "source": [
    "num_h = 3"
   ]
  },
  {
   "cell_type": "code",
   "execution_count": null,
   "metadata": {},
   "outputs": [],
   "source": [
    "d = {}"
   ]
  },
  {
   "cell_type": "code",
   "execution_count": 4,
   "metadata": {},
   "outputs": [],
   "source": [
    "def make_data(num,r):\n",
    "    array = []\n",
    "    for i in range(num):\n",
    "        radius = r + np.random.uniform(-0.05,0.05,1)\n",
    "        theta = np.random.uniform(0,2*np.pi,1)\n",
    "        a,b = radius*np.cos(theta),radius*np.sin(theta)\n",
    "        array.append([a[0],b[0]])\n",
    "    array = np.array(array)\n",
    "    return array"
   ]
  },
  {
   "cell_type": "code",
   "execution_count": 5,
   "metadata": {},
   "outputs": [],
   "source": [
    "x_train = np.vstack((make_data(30,0.95),make_data(30,0.5))) #0.95にしておけば範囲外に出ることはなくなると思う\n",
    "y_train = np.hstack((np.array([0]*30),np.array([1]*30)))\n",
    "\n",
    "x_test = np.vstack((make_data(10,1),make_data(10,0.5)))\n",
    "y_test = np.hstack((np.array([0]*10),np.array([1]*10)))"
   ]
  },
  {
   "cell_type": "code",
   "execution_count": 72,
   "metadata": {},
   "outputs": [],
   "source": [
    "#これは正規化が必要な時に行う、一応やったほうが安全？\n",
    "mn = MinMaxScaler(feature_range=(-1,1),copy = True)\n",
    "x_train = mn.fit_transform(x_train)\n",
    "x_test = mn.fit_transform(x_test)\n",
    "\n",
    "x_train[x_train < -1] = -1\n",
    "x_train[x_train > 1] = 1\n",
    "x_test[x_test < -1] = -1\n",
    "x_test[x_test > 1] = 1"
   ]
  },
  {
   "cell_type": "code",
   "execution_count": 47,
   "metadata": {},
   "outputs": [
    {
     "data": {
      "image/png": "[encoded data removed]",
      "text/plain": [
       "<Figure size 432x288 with 1 Axes>"
      ]
     },
     "metadata": {
      "needs_background": "light"
     },
     "output_type": "display_data"
    }
   ],
   "source": [
    "iris = datasets.load_iris()\n",
    "x_train = np.vstack((iris.data[:30,[0,1]],iris.data[50:80,[0,1]])).astype(np.float32)\n",
    "y_train = np.hstack((iris.target[:30],iris.target[50:80])).astype(np.int32)\n",
    "\n",
    "x_test = np.vstack((iris.data[40:50,[0,1]],iris.data[90:100,[0,1]])).astype(np.float32)\n",
    "y_test = np.hstack((iris.target[40:50],iris.target[90:100])).astype(np.int32)\n",
    "\n",
    "for i in range(len(x_train)):\n",
    "    if y_train[i] == 0:\n",
    "        plt.scatter(x_train_old[i][0],x_train_old[i][1],color = \"red\")\n",
    "    else:\n",
    "        plt.scatter(x_train_old[i][0],x_train_old[i][1],color = \"blue\")"
   ]
  },
  {
   "cell_type": "code",
   "execution_count": 78,
   "metadata": {},
   "outputs": [
    {
     "data": {
      "image/png": "[encoded data removed]",
      "text/plain": [
       "<Figure size 432x288 with 1 Axes>"
      ]
     },
     "metadata": {
      "needs_background": "light"
     },
     "output_type": "display_data"
    }
   ],
   "source": [
    "#これは正規化が必要な時に行う、一応やったほうが安全？\n",
    "mn = MinMaxScaler(feature_range=(-1,1),copy = True)\n",
    "x_train = mn.fit_transform(x_train)\n",
    "x_test = mn.fit_transform(x_test)\n",
    "\n",
    "x_train[x_train < -1] = -1\n",
    "x_train[x_train > 1] = 1\n",
    "x_test[x_test < -1] = -1\n",
    "x_test[x_test > 1] = 1\n",
    "x_train.astype(np.float32)\n",
    "x_test.astype(np.float32)\n",
    "for i in range(len(x_train)):\n",
    "    if y_train[i] == 0:\n",
    "        plt.scatter(x_train[i][0],x_train[i][1],color = \"red\")\n",
    "    else:\n",
    "        plt.scatter(x_train[i][0],x_train[i][1],color = \"blue\")"
   ]
  },
  {
   "cell_type": "code",
   "execution_count": 49,
   "metadata": {},
   "outputs": [],
   "source": [
    "class Net1(chainer.Chain):\n",
    "\n",
    "    def __init__(self, n_in=2, n_hidden=3, n_out=2):\n",
    "        super().__init__()\n",
    "        with self.init_scope():\n",
    "            self.l1 = L.Linear(n_in, n_hidden)\n",
    "            self.l2 = L.Linear(n_hidden, n_out)\n",
    "\n",
    "    def __call__(self, x):\n",
    "        h = F.relu(self.l1(x))\n",
    "        h = self.l2(h)\n",
    "        return h"
   ]
  },
  {
   "cell_type": "code",
   "execution_count": 20,
   "metadata": {},
   "outputs": [],
   "source": [
    "class Net2(chainer.Chain):\n",
    "\n",
    "    def __init__(self,n_in=2,n_hidden=3,n_out=2):\n",
    "        super().__init__()\n",
    "        with self.init_scope():\n",
    "            self.l1 = L.Linear(n_in,n_hidden)\n",
    "            self.l2 = L.Linear(n_hidden,n_hidden)\n",
    "            self.l3 = L.Linear(n_hidden,n_out)\n",
    "\n",
    "    def __call__(self, x):\n",
    "        h = F.relu(self.l1(x))\n",
    "        h = F.relu(self.l2(h))\n",
    "        h = self.l3(h)\n",
    "        return h"
   ]
  },
  {
   "cell_type": "code",
   "execution_count": 79,
   "metadata": {},
   "outputs": [
    {
     "data": {
      "text/plain": [
       "<chainer.optimizers.sgd.SGD at 0x26bdac170c8>"
      ]
     },
     "execution_count": 79,
     "metadata": {},
     "output_type": "execute_result"
    }
   ],
   "source": [
    "net = Net1(n_hidden=num_h)\n",
    "optimizer = chainer.optimizers.SGD()\n",
    "optimizer.setup(net)"
   ]
  },
  {
   "cell_type": "code",
   "execution_count": 81,
   "metadata": {},
   "outputs": [],
   "source": [
    "n_epoch = 500\n",
    "for epoch in range(n_epoch):\n",
    "    # データセット並べ替えた順番を取得\n",
    "    order = np.random.permutation(range(len(x_train)))\n",
    "    for i in range(len(order)):\n",
    "        # バッチを準備\n",
    "        index = order[i]\n",
    "        x_train_batch = x_train[index:index+1].astype(np.float32)\n",
    "        y_train_batch = y_train[index:index+1].astype(np.int32)\n",
    "        \n",
    "        # 予測値を出力\n",
    "        y_pred = net(x_train_batch)\n",
    "        # 目的関数を適用\n",
    "        loss_train_batch = F.softmax_cross_entropy(y_pred,y_train_batch)\n",
    "\n",
    "        # 勾配のリセットと勾配の計算\n",
    "        net.cleargrads()\n",
    "        loss_train_batch.backward()\n",
    "\n",
    "        # パラメータの更新\n",
    "        optimizer.update()"
   ]
  },
  {
   "cell_type": "code",
   "execution_count": 60,
   "metadata": {},
   "outputs": [],
   "source": [
    "def softmax(x):  #xはndarrayじゃなきゃだめ\n",
    "    max_x = np.max(x)\n",
    "    exp_x = np.exp(x-max_x)\n",
    "    return exp_x / np.sum(exp_x)"
   ]
  },
  {
   "cell_type": "code",
   "execution_count": 82,
   "metadata": {},
   "outputs": [],
   "source": [
    "def plot_decision_regions():\n",
    "    x1_min,x1_max = x_train[:,0].min(),x_train[:,0].max()\n",
    "    x2_min,x2_max = x_train[:,1].min(),x_train[:,1].max()\n",
    "    xx1,xx2 = np.meshgrid(np.arange(x1_min,x1_max,0.08),\n",
    "                         np.arange(x2_min,x2_max,0.08))\n",
    "    points = np.array([xx1.ravel(),xx2.ravel()]).T\n",
    "    z = []\n",
    "    for i,j in points:\n",
    "        y_pred = net(np.array([i,j],dtype=np.float32).reshape(1,len(x_train[0]))).array.reshape(num_class,)\n",
    "        y_pred = softmax(y_pred)\n",
    "        y_pred = list(y_pred)\n",
    "        z.append(y_pred.index(max(y_pred)))\n",
    "    z = np.array(z)\n",
    "    z = z.reshape(xx1.shape)\n",
    "    \n",
    "    plt.contourf(xx1,xx2,z,alpha = 0.3)\n",
    "    plt.xlim(-1.3,1.3)\n",
    "    plt.ylim(-1.3,1.3)\n",
    "    \n",
    "    for i in range(len(x_train)):\n",
    "        if y_train[i]== 0:\n",
    "            plt.scatter(x_train[i][0],x_train[i][1],color = \"red\")\n",
    "        else:\n",
    "            plt.scatter(x_train[i][0],x_train[i][1],color = \"blue\") "
   ]
  },
  {
   "cell_type": "code",
   "execution_count": 83,
   "metadata": {},
   "outputs": [
    {
     "data": {
      "image/png": "[encoded data removed]",
      "text/plain": [
       "<Figure size 432x288 with 1 Axes>"
      ]
     },
     "metadata": {
      "needs_background": "light"
     },
     "output_type": "display_data"
    }
   ],
   "source": [
    "plot_decision_regions()"
   ]
  },
  {
   "cell_type": "code",
   "execution_count": 7,
   "metadata": {},
   "outputs": [],
   "source": [
    "#ここまでが学習フェーズ、ここから下はNICの計算フェーズ"
   ]
  },
  {
   "cell_type": "code",
   "execution_count": 91,
   "metadata": {},
   "outputs": [],
   "source": [
    "par = np.array([0]*(5*num_h+2),dtype=np.float32) #ここで学習済パラメータを1次元化する\n",
    "for i in range(2*num_h):\n",
    "    par[i] = net.l1.W.array[i//2][i%2]\n",
    "for i in range(2*num_h,3*num_h):\n",
    "    par[i] = net.l1.b.array[i%num_h]\n",
    "for i in range(3*num_h,5*num_h):\n",
    "    par[i] = net.l2.W.array[(i-3*num_h)//num_h][(i-3*num_h)%num_h]\n",
    "par[5*num_h] = net.l2.b.array[0]\n",
    "par[5*num_h+1] = net.l2.b.array[1]"
   ]
  },
  {
   "cell_type": "code",
   "execution_count": 111,
   "metadata": {},
   "outputs": [],
   "source": [
    "class Net_after_optimization(chainer.Chain):\n",
    "    def __init__(self,W_l1,b_l1,W_l2,b_l2,n_in=2,n_hidden=3,n_out=2):\n",
    "        super().__init__()\n",
    "        with self.init_scope():\n",
    "            self.l1 = L.Linear(n_in, n_hidden,initialW=W_l1,initial_bias=b_l1)\n",
    "            self.l2 = L.Linear(n_hidden, n_out,initialW=W_l2,initial_bias=b_l2)\n",
    "\n",
    "    def __call__(self, x):\n",
    "        h = F.relu(self.l1(x))\n",
    "        h = self.l2(h)\n",
    "        return h"
   ]
  },
  {
   "cell_type": "code",
   "execution_count": 113,
   "metadata": {},
   "outputs": [],
   "source": [
    "def loss_func(x,y,theta):\n",
    "    #x:入力値、y:出力値、theta:学習後のパラメータベクトル,x,yは1次元のndarray(shape=(1,)となっている)\n",
    "    #まず学習済パラメータを用いてモデルを構成し、その後損失関数を計算する\n",
    "    #もし使うNNの形を変えるならこの構成部分をのコードを変える必要がある\n",
    "    W1 = np.array([[0,0] for _ in range(num_h)],dtype = np.float32)\n",
    "    b1 = np.array([0 for _ in range(num_h)],dtype = np.float32)\n",
    "    W2 = np.array([[0 for _ in range(num_h)] for _ in range(2)],dtype = np.float32)\n",
    "    b2 = np.array([0,0],dtype = np.float32)\n",
    "    for i in range(2*num_h):\n",
    "        W1[i//2][i%2] = theta[i]\n",
    "    for i in range(2*num_h,3*num_h):\n",
    "        b1[i%num_h] = theta[i]\n",
    "    for i in range(3*num_h,5*num_h):\n",
    "        W2[(i-3*num_h)//num_h][(i-3*num_h)%num_h] = theta[i]\n",
    "    b2[0] = theta[5*num_h]\n",
    "    b2[1] = theta[5*num_h+1]\n",
    "    new_net = Net_after_optimization(n_hidden=num_h,W_l1=W1,b_l1=b1,W_l2=W2,b_l2=b2)\n",
    "    \n",
    "    #結果を1次元配列にする（まだsoftmax関数は作用していない）\n",
    "    y_pred = new_net(x.astype(np.float32).reshape(1,2)).array.reshape(num_class,)\n",
    "    #softmax関数を作用させる\n",
    "    y_pred = softmax(y_pred)\n",
    "    return -np.log(y_pred[y])"
   ]
  },
  {
   "cell_type": "code",
   "execution_count": 9,
   "metadata": {},
   "outputs": [],
   "source": [
    "def compute_gradient1(loss,x,y,theta,num):\n",
    "    #loss: 使うloss関数、x,y:i番目のデータ,theta:今のパラメータベクトル,num: 何番目のパラメータについて偏微分をとるか\n",
    "    #出力は勾配ベクトル\n",
    "    h = 1e-4\n",
    "    theta1,theta2 = theta.copy(),theta.copy()\n",
    "    theta1[num] += h\n",
    "    theta2[num] -= h\n",
    "    return (loss(x,y,theta1)-loss(x,y,theta2))/(2*h)"
   ]
  },
  {
   "cell_type": "code",
   "execution_count": 10,
   "metadata": {},
   "outputs": [],
   "source": [
    "def compute_gradient2(loss,x,y,theta,num1,num2):\n",
    "    h = 1e-4\n",
    "    if num1 == num2:\n",
    "        theta1,theta2 = theta.copy(),theta.copy()\n",
    "        theta1[num1] += h\n",
    "        theta2[num1] -= h\n",
    "        return (loss(x,y,theta1) + loss(x,y,theta2) -2*loss(x,y,theta))/(h**2)\n",
    "    else:\n",
    "        theta1,theta2,theta3,theta4 = theta.copy(),theta.copy(),theta.copy(),theta.copy()\n",
    "        theta1[num1],theta1[num2] = theta[num1]+h,theta[num2]+h\n",
    "        theta2[num1],theta2[num2] = theta[num1]+h,theta[num2]-h\n",
    "        theta3[num1],theta3[num2] = theta[num1]-h,theta[num2]+h\n",
    "        theta4[num1],theta4[num2] = theta[num1]-h,theta[num2]-h\n",
    "        return (loss(x,y,theta1) + loss(x,y,theta4) - loss(x,y,theta2) - loss(x,y,theta3))/(4*(h**2))"
   ]
  },
  {
   "cell_type": "code",
   "execution_count": 11,
   "metadata": {},
   "outputs": [],
   "source": [
    "def G_ast(par,loss):\n",
    "    #入力:学習後のパラメータ、出力:行列G^ast\n",
    "    n = len(par)\n",
    "    G = np.array([[0 for _ in range(n)] for _ in range(n)])\n",
    "    E_x = [0]*n    #E_x[i] = i番目の偏微分の期待値\n",
    "    E_xy = [[0 for _ in range(n)] for _ in range(n)]  #E_xy[i][j] = i,j番目の偏微分の期待値\n",
    "    for i in range(n):\n",
    "        element = 0\n",
    "        for x,y in zip(x_train,y_train):\n",
    "            element += compute_gradient1(loss,x,y,par,i)\n",
    "        element /= float(len(x_train))\n",
    "        E_x[i] = element\n",
    "        \n",
    "    for i in range(n):\n",
    "        for j in range(n):\n",
    "            if i <= j:\n",
    "                element = 0\n",
    "                for x,y in zip(x_train,y_train):\n",
    "                    element += compute_gradient1(loss,x,y,par,i)*compute_gradient1(loss,x,y,par,j)\n",
    "                element /= float(len(x_train))\n",
    "                E_xy[i][j] = element\n",
    "            else:\n",
    "                E_xy[i][j] = E_xy[j][i]\n",
    "    \n",
    "    for i in range(n):\n",
    "        for j in range(n):\n",
    "            G[i][j] = E_xy[i][j] - E_x[i]*E_x[j]\n",
    "    return G"
   ]
  },
  {
   "cell_type": "code",
   "execution_count": 12,
   "metadata": {},
   "outputs": [],
   "source": [
    "def Q_ast(par,loss):\n",
    "    #入力:学習後のパラメータ、出力:行列Q^ast\n",
    "    n = len(par)\n",
    "    Q = np.array([[0 for _ in range(n)] for _ in range(n)])\n",
    "    for i in range(n):\n",
    "        for j in range(n):\n",
    "            element = 0\n",
    "            for x,y in zip(x_train,y_train):\n",
    "                element += compute_gradient2(loss,x,y,par,i,j)\n",
    "            element /= float(len(x_train))\n",
    "            Q[i][j] = element\n",
    "    return Q"
   ]
  },
  {
   "cell_type": "code",
   "execution_count": 13,
   "metadata": {},
   "outputs": [],
   "source": [
    "def D_ast(par,loss):\n",
    "    res = 0\n",
    "    for x,y in zip(x_train,y_train):\n",
    "        res += loss(x,y,par)\n",
    "    res /= float(len(x_train))\n",
    "    return res"
   ]
  },
  {
   "cell_type": "code",
   "execution_count": 14,
   "metadata": {},
   "outputs": [],
   "source": [
    "def NIC(par,loss):\n",
    "    f1 = D_ast(par,loss)\n",
    "    G = G_ast(par,loss)\n",
    "    Q = Q_ast(par,loss)\n",
    "    Q_inv = np.linalg.pinv(Q)\n",
    "    temp = np.dot(G,Q_inv)\n",
    "    return f1 + np.trace(temp)/float(len(x_train))"
   ]
  },
  {
   "cell_type": "code",
   "execution_count": 116,
   "metadata": {},
   "outputs": [],
   "source": [
    "def gene_error(par,loss):   #入力最適パラメータのリスト、出力汎化誤差\n",
    "    res = 0\n",
    "    for x,y in zip(x_test,y_test):\n",
    "        res += loss(x,y,par)\n",
    "    res /= float(len(x_test))\n",
    "    return res"
   ]
  },
  {
   "cell_type": "code",
   "execution_count": null,
   "metadata": {},
   "outputs": [],
   "source": [
    "d[num_h] = d.get(num_h,[]) + [(D_ast(par,loss_func),gene_error(par,loss_func),NIC(par,loss_func))]"
   ]
  }
 ],
 "metadata": {
  "kernelspec": {
   "display_name": "Python 3",
   "language": "python",
   "name": "python3"
  },
  "language_info": {
   "codemirror_mode": {
    "name": "ipython",
    "version": 3
   },
   "file_extension": ".py",
   "mimetype": "text/x-python",
   "name": "python",
   "nbconvert_exporter": "python",
   "pygments_lexer": "ipython3",
   "version": "3.7.7"
  }
 },
 "nbformat": 4,
 "nbformat_minor": 4
}
